{
 "cells": [
  {
   "cell_type": "code",
   "execution_count": 1,
   "metadata": {},
   "outputs": [
    {
     "name": "stdout",
     "output_type": "stream",
     "text": [
      "SAYI BULMA OYUNU\n",
      "Lütfen rakamları birbirinden farklı bir sayı girin: 1234\n",
      "+ 0 , - 2\n",
      "Tahmininizi girin: 5678\n",
      "+ 0 , - 1\n",
      "Tahmininizi girin: 5679\n",
      "+ 1 , - 1\n",
      "Tahmininizi girin: 2739\n",
      "+ 1 , - 1\n",
      "Tahmininizi girin: 3429\n",
      "+ 3 , - 0\n",
      "Tahmininizi girin: 3529\n",
      "+ 2 , - 1\n",
      "Tahmininizi girin: 3459\n",
      " Bravo!!! 7 deneme sonunda bildiniz...\n"
     ]
    }
   ],
   "source": [
    "# BONUS!!!! SAYI TAHMİN ETME OYUNU..........\n",
    "\n",
    "\n",
    "hedef=\"3459\"\n",
    "\n",
    "sayac=1\n",
    "\n",
    "liste_hedef=[]\n",
    "for x in range(4):\n",
    "    liste_hedef.append(hedef[x])\n",
    "print (\"SAYI BULMA OYUNU\")\n",
    "tahmin=input(\"Lütfen rakamları birbirinden farklı bir sayı girin: \")\n",
    "liste_tahmin=[]\n",
    "for x in range(4):\n",
    "    liste_tahmin.append(tahmin[x])\n",
    "\n",
    "sayac_ayni=0\n",
    "sayac_farkli=0    \n",
    "while tahmin!=hedef:\n",
    "           \n",
    "    for x in range(4):\n",
    "        if liste_tahmin[x]==liste_hedef[x]:\n",
    "            sayac_ayni+=1   \n",
    "        else:\n",
    "            if liste_tahmin[x] in liste_hedef:\n",
    "                sayac_farkli+=1\n",
    "            else:\n",
    "                None\n",
    "    print (\"+ {} , - {}\".format(sayac_ayni,sayac_farkli))\n",
    "    \n",
    "    sayac_ayni=0\n",
    "    sayac_farkli=0\n",
    "    \n",
    "    tahmin=input(\"Tahmininizi girin: \")\n",
    "    liste_tahmin=[]\n",
    "    for x in range(4):\n",
    "        liste_tahmin.append(tahmin[x]) \n",
    "    \n",
    "    sayac+=1\n",
    "print (\" Bravo!!! %d deneme sonunda bildiniz...\" %sayac)"
   ]
  },
  {
   "cell_type": "code",
   "execution_count": null,
   "metadata": {},
   "outputs": [],
   "source": []
  }
 ],
 "metadata": {
  "kernelspec": {
   "display_name": "Python 3",
   "language": "python",
   "name": "python3"
  },
  "language_info": {
   "codemirror_mode": {
    "name": "ipython",
    "version": 3
   },
   "file_extension": ".py",
   "mimetype": "text/x-python",
   "name": "python",
   "nbconvert_exporter": "python",
   "pygments_lexer": "ipython3",
   "version": "3.7.2"
  }
 },
 "nbformat": 4,
 "nbformat_minor": 2
}
